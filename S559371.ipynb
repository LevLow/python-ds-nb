{
 "cells": [
  {
   "cell_type": "markdown",
   "metadata": {},
   "source": [
    "# Levi Lowther"
   ]
  },
  {
   "cell_type": "code",
   "execution_count": 4,
   "metadata": {},
   "outputs": [
    {
     "name": "stdout",
     "output_type": "stream",
     "text": [
      "*     *\n",
      "**   **\n",
      "*** ***\n",
      "********\n"
     ]
    }
   ],
   "source": [
    "lines = 4\n",
    "\n",
    "for i in range(1, lines +1):\n",
    "    for j in range(1, i +1):\n",
    "        print(\"*\", end=\"\")\n",
    "    for k in range(1, 2 * (lines - i)):\n",
    "        print(\" \", end=\"\")\n",
    "    for l in range(i, 0, -1):\n",
    "        print(\"*\", end=\"\")\n",
    "    print()    "
   ]
  }
 ],
 "metadata": {
  "kernelspec": {
   "display_name": "Python 3 (ipykernel)",
   "language": "python",
   "name": "python3"
  },
  "language_info": {
   "codemirror_mode": {
    "name": "ipython",
    "version": 3
   },
   "file_extension": ".py",
   "mimetype": "text/x-python",
   "name": "python",
   "nbconvert_exporter": "python",
   "pygments_lexer": "ipython3",
   "version": "3.9.16"
  }
 },
 "nbformat": 4,
 "nbformat_minor": 4
}
